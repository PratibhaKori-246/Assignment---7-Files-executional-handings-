{
 "cells": [
  {
   "cell_type": "markdown",
   "id": "6118f5ba-c890-4816-b757-d93bb51c2945",
   "metadata": {},
   "source": [
    "# Assignment - 7 {files & exceptional handing}"
   ]
  },
  {
   "cell_type": "markdown",
   "id": "6902c1c3-60af-44eb-aefa-767de5865261",
   "metadata": {},
   "source": [
    "Q 1. discuss the scenarios where multithreading is preferable to multiprocessing and scenarios where multiprocessing is a better choice."
   ]
  },
  {
   "cell_type": "markdown",
   "id": "9abfebd4-0dd7-44f3-ac97-0176ae60e5c6",
   "metadata": {},
   "source": [
    "### 1. When Multithreading is Preferable:\n",
    "\n",
    "🔸I/O-Bound Tasks:\n",
    "\n",
    "If the primary bottleneck is waiting for I/O operations, such as network requests, file I/O, database operations, or any input/output process that involves waiting for external data, multithreading is more effective.\n",
    "\n",
    "🔸Tasks with Shared Memory Needs:\n",
    "\n",
    "When tasks need to share large amounts of data or maintain a shared state, multithreading is preferable since threads can access the same memory space.\n",
    "\n",
    "🔸Low Memory Overhead:\n",
    "\n",
    "Threads are lightweight compared to processes, so if the goal is to minimize memory usage, multithreading might be more efficient.\n",
    "\n",
    "### 2. When Multiprocessing is Preferable:\n",
    "\n",
    "🔸CPU-Bound Tasks:\n",
    "\n",
    "If the task is computationally intensive and spends most of its time performing CPU operations, multiprocessing is usually better. Each process gets its own Python interpreter and can run on a separate CPU core.\n",
    "\n",
    "🔸Bypassing the Global Interpreter Lock (GIL):\n",
    "\n",
    "In Python, the Global Interpreter Lock (GIL) can be a limiting factor when using threads, as it restricts the execution of threads to one at a time even on multi-core systems (for CPU-bound code).\n",
    "\n",
    "Multiprocessing is better here since each process has its own GIL and can fully utilize multiple cores.\n",
    "\n",
    "🔸Tasks Requiring Fault Isolation:\n",
    "\n",
    "If a process crashes or misbehaves, it won't affect other processes. This can be advantageous for tasks where stability is critical.\n",
    "\n",
    "🔸Memory-Intensive Tasks with Separate Data:\n",
    "\n",
    "When each task needs to load its own copy of a large dataset or state into memory, multiprocessing can be preferable because it avoids potential bottlenecks from threads competing for memory access.\n"
   ]
  },
  {
   "cell_type": "markdown",
   "id": "b2103721-7106-4fa9-8bb5-5a265bcc41de",
   "metadata": {},
   "source": [
    "Q 2.describe what a process pool is and how it helps in managing multiple processes efficiently."
   ]
  },
  {
   "cell_type": "markdown",
   "id": "f0afdaa4-9f8c-45f2-9b84-0b05e140c752",
   "metadata": {},
   "source": [
    "A process pool is a programming construct used to manage a collection of worker processes that can execute tasks concurrently. It simplifies the management of multiple processes by providing an abstraction for distributing work to a fixed number of processes, which can be reused for different tasks. This is especially useful when working with multiprocessing for CPU-bound operations.\n",
    "\n",
    "Key Point :\n",
    "\n",
    "1. Fixed Number of Workers\n",
    "\n",
    "2. Task Submission\n",
    "\n",
    "3. Reusing Processes\n",
    "\n",
    "4. Managing Results\n",
    "\n",
    "Here’s how it achieves efficiency:\n",
    "\n",
    "1. Prevents Resource Exhaustion:\n",
    "\n",
    "By maintaining a fixed number of worker processes, a process pool ensures that the number of active processes does not exceed the system's capacity. This prevents resource exhaustion, such as running out of memory or overwhelming the CPU.\n",
    "\n",
    "2. Optimizes Core Usage:\n",
    "\n",
    "Process pools are often configured to match the number of CPU cores, maximizing the utilization of multi-core processors without creating more processes than the system can handle efficiently.\n",
    "\n",
    "3. Efficient Task Dispatching:\n",
    "\n",
    "A process pool manages a queue of tasks and assigns them to available worker processes, streamlining the process of distributing work.\n",
    "\n",
    "4. Automatic Task Queuing:\n",
    "\n",
    "If all processes in the pool are busy, new tasks are automatically queued, waiting for a worker to become available. This avoids the need to manually manage a task queue or worry about scheduling.\n",
    "\n",
    "5. Fault Isolation:\n",
    "\n",
    "In the event of a worker process crashing due to an error in a particular task, it does not affect the other workers in the pool. The pool can simply handle the error, recycle the failed process, and continue processing other tasks.\n"
   ]
  },
  {
   "cell_type": "markdown",
   "id": "25fa6c1a-ae7f-47a0-8146-7f1daeb8d77a",
   "metadata": {},
   "source": [
    "Q 3. explain what multiprocessing age and why it is used in Python program."
   ]
  },
  {
   "cell_type": "markdown",
   "id": "15a4dedd-934f-424a-bfdc-b52ffb926d25",
   "metadata": {},
   "source": [
    "The term \"multiprocessing\" in the context of computing refers to the ability of a system to run multiple processes simultaneously, taking advantage of multiple CPU cores.\n",
    "\n",
    "In Python, the multiprocessing module provides support for this kind of parallel execution, allowing a Python program to run multiple independent processes concurrently. This is especially useful because of Python's Global Interpreter Lock (GIL), a mechanism that restricts the execution of threads in the Python interpreter.\n",
    "\n",
    "### Why Use Multiprocessing in Python?\n",
    "\n",
    "1. Bypassing the Global Interpreter Lock (GIL):  only one thread can execute Python code at a time per process, which limits the effectiveness of threading for CPU-bound tasks.\n",
    "\n",
    "2. True Parallelism for CPU-Bound Tasks:  Using the multiprocessing module, Python can distribute these CPU-intensive tasks across multiple processes, allowing them to execute in parallel. This results in faster execution time as multiple cores of a CPU can be utilized simultaneously.\n",
    "\n",
    "3.  Process Isolation and Stability:\n",
    "Each process in multiprocessing runs independently with its own memory space, so if one process crashes, it doesn’t affect the others. This isolation is beneficial for fault-tolerant systems.\n"
   ]
  },
  {
   "cell_type": "markdown",
   "id": "1eee0fcf-ca5b-47c4-ba90-294af156aee3",
   "metadata": {},
   "source": [
    "Q 4.write a Python program using a multithreading where one thread adds number of number to a list and another thread remove number from the list implement a mechanism to avoid race conditions using threading lock."
   ]
  },
  {
   "cell_type": "code",
   "execution_count": 1,
   "id": "1fb49bfc-ad04-43ba-9c31-bf2098de903a",
   "metadata": {},
   "outputs": [
    {
     "name": "stdout",
     "output_type": "stream",
     "text": [
      "List is empty, nothing to remove.\n",
      "Added 22 to the list. Current list: [22]\n",
      "Added 60 to the list. Current list: [22, 60]\n",
      "Added 85 to the list. Current list: [22, 60, 85]\n",
      "Removed 22 from the list. Current list: [60, 85]\n",
      "Added 66 to the list. Current list: [60, 85, 66]\n",
      "Added 54 to the list. Current list: [60, 85, 66, 54]\n",
      "Added 19 to the list. Current list: [60, 85, 66, 54, 19]\n",
      "Removed 60 from the list. Current list: [85, 66, 54, 19]\n",
      "Added 76 to the list. Current list: [85, 66, 54, 19, 76]\n",
      "Added 64 to the list. Current list: [85, 66, 54, 19, 76, 64]\n",
      "Removed 85 from the list. Current list: [66, 54, 19, 76, 64]\n",
      "Removed 66 from the list. Current list: [54, 19, 76, 64]\n",
      "Added 7 to the list. Current list: [54, 19, 76, 64, 7]\n",
      "Removed 54 from the list. Current list: [19, 76, 64, 7]\n",
      "Added 94 to the list. Current list: [19, 76, 64, 7, 94]\n",
      "Removed 19 from the list. Current list: [76, 64, 7, 94]\n",
      "Removed 76 from the list. Current list: [64, 7, 94]\n",
      "Removed 64 from the list. Current list: [7, 94]\n",
      "Removed 7 from the list. Current list: [94]\n",
      "Final list: [94]\n"
     ]
    }
   ],
   "source": [
    "import threading\n",
    "import time\n",
    "import random\n",
    "\n",
    "# Shared list and a lock\n",
    "shared_list = []\n",
    "lock = threading.Lock()\n",
    "\n",
    "# Function for adding numbers to the list\n",
    "def add_numbers():\n",
    "    for i in range(10):\n",
    "        time.sleep(random.uniform(0.1, 0.5))  # Simulate some work\n",
    "        lock.acquire()  # Acquire the lock before modifying the list\n",
    "        try:\n",
    "            num = random.randint(1, 100)\n",
    "            shared_list.append(num)\n",
    "            print(f\"Added {num} to the list. Current list: {shared_list}\")\n",
    "        finally:\n",
    "            lock.release()  # Ensure the lock is released after the operation\n",
    "\n",
    "# Function for removing numbers from the list\n",
    "def remove_numbers():\n",
    "    for i in range(10):\n",
    "        time.sleep(random.uniform(0.2, 0.6))  # Simulate some work\n",
    "        lock.acquire()  # Acquire the lock before modifying the list\n",
    "        try:\n",
    "            if shared_list:\n",
    "                num = shared_list.pop(0)  # Remove the first element\n",
    "                print(f\"Removed {num} from the list. Current list: {shared_list}\")\n",
    "            else:\n",
    "                print(\"List is empty, nothing to remove.\")\n",
    "        finally:\n",
    "            lock.release()  # Ensure the lock is released after the operation\n",
    "\n",
    "# Create threads for adding and removing numbers\n",
    "add_thread = threading.Thread(target=add_numbers)\n",
    "remove_thread = threading.Thread(target=remove_numbers)\n",
    "\n",
    "# Start the threads\n",
    "add_thread.start()\n",
    "remove_thread.start()\n",
    "\n",
    "# Wait for both threads to finish\n",
    "add_thread.join()\n",
    "remove_thread.join()\n",
    "\n",
    "print(\"Final list:\", shared_list)\n"
   ]
  },
  {
   "cell_type": "markdown",
   "id": "4788d2a5-ba03-44ca-8532-dd9641bd991f",
   "metadata": {},
   "source": [
    "Q 5.Describe the method and tool available in Python for safety sharing data between Threads and processes."
   ]
  },
  {
   "cell_type": "markdown",
   "id": "6ba7eee1-5d0f-4a2e-8825-476bdc6dfd7c",
   "metadata": {},
   "source": [
    "### 1. Threading Mechanisms\n",
    "\n",
    "When using threads in Python (via the threading module), multiple threads run within the same process and share the same memory space.\n",
    "\n",
    "a. Lock: A Lock is a basic synchronization primitive that allows only one thread to access a shared resource at a time. When a thread acquires a lock, other threads must wait until the lock is released before they can acquire it.\n",
    "\n",
    "b. RLock (threading.RLock): A reentrant lock allows the same thread to acquire the lock multiple times. This is useful when the lock is needed in recursive functions or when a function that requires a lock calls another function that also needs the same lock.\n",
    "\n",
    "c. Condition :\n",
    "\n",
    "A Condition is used for thread coordination. It allows one thread to wait until notified by another thread that a certain condition is true. A Condition object is always associated with a lock.\n",
    "\n",
    "d. . Semaphore (threading.Semaphore)\n",
    "\n",
    "A Semaphore allows a limited number of threads to access a resource. It is useful when you need to limit access to a resource, such as limiting concurrent database connections.\n",
    "\n",
    "### 2. Multiprocessing Mechanisms\n",
    "\n",
    "a. Lock (multiprocessing.Lock)\n",
    "\n",
    "Similar to threading.Lock, a multiprocessing.Lock is used to ensure that only one process can access a shared resource at a time.\n",
    "\n",
    "b. Manager (multiprocessing.Manager)\n",
    "\n",
    "A Manager provides a way to create shared data structures such as lists, dictionaries, and other containers that can be safely shared between processes.\n",
    "\n",
    "c. Queue (multiprocessing.Queue)\n",
    "\n",
    "A Queue allows safe communication between processes. It uses an internal FIFO (First In, First Out) mechanism and handles synchronization automatically.\n"
   ]
  },
  {
   "cell_type": "markdown",
   "id": "1db09617-79df-4999-a8dc-10ac161b8837",
   "metadata": {},
   "source": [
    "Q 6.discuss why is crucial to handle exceptions in concurrent programs and techniques available for doing so."
   ]
  },
  {
   "cell_type": "markdown",
   "id": "3d626a48-d25d-4ff4-97ed-09eaba4c3f29",
   "metadata": {},
   "source": [
    "1. Ensuring Program Stability:\n",
    "\n",
    "🔹In concurrent programs, an unhandled exception in one thread or process can cause the entire program to fail. Proper exception handling ensures that errors in one part of the program do not affect the overall stability of the application.\n",
    "\n",
    "🔸Example: In a web server, an error in one request handling thread should not cause the server to stop serving other requests.\n",
    "\n",
    "2. Resource Management:\n",
    "\n",
    "🔹Concurrent programs often deal with resources like locks, files, network connections, and shared memory. Unhandled exceptions can prevent these resources from being properly released, leading to resource leaks.\n",
    "\n",
    "🔸For example, if a thread that holds a lock encounters an unhandled exception and terminates without releasing the lock, other threads may get stuck waiting for that lock, causing a deadlock.\n",
    "\n",
    "3.Data Consistency and Integrity:\n",
    "\n",
    "🔹In programs where multiple threads or processes access shared data, an exception could leave the shared data in an inconsistent state if not properly managed.\n",
    "\n",
    "🔹By handling exceptions, you can ensure that the program has a chance to rollback or clean up any partially completed operations, maintaining data integrity.\n",
    "\n",
    "4.Debugging and Logging:\n",
    "\n",
    "🔹Exceptions provide valuable information for debugging. By catching and logging exceptions, you can understand what went wrong and where.\n",
    "\n",
    "🔹In concurrent environments, catching exceptions allows you to log specific errors along with information about which thread or process encountered the issue, making troubleshooting easier."
   ]
  },
  {
   "cell_type": "markdown",
   "id": "ecb46073-3ef5-4a0f-996a-56b8323e6db9",
   "metadata": {},
   "source": [
    "Q 7. create a program that uses a thread pool to calculate the factorial of numbers from 1 to 10 concurrently use  concurrent.future.threadspoolexecutor to manage te threads.\n"
   ]
  },
  {
   "cell_type": "code",
   "execution_count": 2,
   "id": "eae06f19-1beb-4ff8-9650-c7928c14e978",
   "metadata": {},
   "outputs": [
    {
     "name": "stdout",
     "output_type": "stream",
     "text": [
      "Factorial of 1 is 1\n",
      "Factorial of 2 is 2\n",
      "Factorial of 3 is 6\n",
      "Factorial of 4 is 24\n",
      "Factorial of 5 is 120\n",
      "Factorial of 6 is 720\n",
      "Factorial of 7 is 5040\n",
      "Factorial of 8 is 40320\n",
      "Factorial of 9 is 362880\n",
      "Factorial of 10 is 3628800\n"
     ]
    }
   ],
   "source": [
    "from concurrent.futures import ThreadPoolExecutor\n",
    "import math\n",
    "\n",
    "def factorial(n):\n",
    "    result = math.factorial(n)\n",
    "    print(f\"Factorial of {n} is {result}\")\n",
    "    return result\n",
    "\n",
    "# Main function \n",
    "def main():\n",
    "   \n",
    "    with ThreadPoolExecutor(max_workers=5) as executor:\n",
    "        futures = [executor.submit(factorial, i) for i in range(1, 11)]\n",
    "        \n",
    "        # Retrieve the results as they complete\n",
    "        for future in futures:\n",
    "           \n",
    "            future.result()\n",
    "\n",
    "if __name__ == \"__main__\":\n",
    "    main()\n"
   ]
  },
  {
   "cell_type": "markdown",
   "id": "ee826ced-d6dc-4f96-9dd9-de6971c59bdb",
   "metadata": {},
   "source": [
    "Q 8. create a Python program that uses multiprocessing.pool to comput the square of no. from 1 to 10 in paallel. Measure the time tken to perform this computer using a pol of diiferent sizes."
   ]
  },
  {
   "cell_type": "code",
   "execution_count": null,
   "id": "aa455eac-dd40-4c2f-9abc-e68ede07e0f5",
   "metadata": {},
   "outputs": [],
   "source": [
    "from multiprocessing import Pool\n",
    "import time\n",
    "\n",
    "# Function to compute the square of a number\n",
    "def square(n):\n",
    "    return n * n\n",
    "\n",
    "# Main function to manage the pool and measure execution time\n",
    "def main():\n",
    "    # List of numbers from 1 to 10\n",
    "    numbers = list(range(1, 11))\n",
    "    \n",
    "    for pool_size in range(1, 6):  \n",
    "        start_time = time.time()\n",
    "        \n",
    "        with Pool(processes=pool_size) as pool:\n",
    "            results = pool.map(square, numbers)\n",
    "        \n",
    "        end_time = time.time()\n",
    "        elapsed_time = end_time - start_time\n",
    "        \n",
    "   \n",
    "        print(f\"Pool Size: {pool_size}, Results:{results}, Time Taken: {elapsed_time:.4f} seconds\")\n",
    "\n",
    "if __name__ == \"__main__\":\n",
    "    main()"
   ]
  },
  {
   "cell_type": "code",
   "execution_count": null,
   "id": "69717b47-d325-4ab9-b140-a794049b20e6",
   "metadata": {},
   "outputs": [],
   "source": []
  },
  {
   "cell_type": "code",
   "execution_count": null,
   "id": "ddd4e0b6-4957-4cd8-a3ae-015a30b240bc",
   "metadata": {},
   "outputs": [],
   "source": []
  }
 ],
 "metadata": {
  "kernelspec": {
   "display_name": "Python 3 (ipykernel)",
   "language": "python",
   "name": "python3"
  },
  "language_info": {
   "codemirror_mode": {
    "name": "ipython",
    "version": 3
   },
   "file_extension": ".py",
   "mimetype": "text/x-python",
   "name": "python",
   "nbconvert_exporter": "python",
   "pygments_lexer": "ipython3",
   "version": "3.12.4"
  }
 },
 "nbformat": 4,
 "nbformat_minor": 5
}
